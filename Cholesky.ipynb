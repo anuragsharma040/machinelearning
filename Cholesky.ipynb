{
 "cells": [
  {
   "cell_type": "code",
   "execution_count": 1,
   "id": "2457a6ba-0f6c-4f94-aae5-0babeb2be6d9",
   "metadata": {},
   "outputs": [],
   "source": [
    "import numpy as np\n",
    "matrix=[[4, 12, -16],\n",
    "        [12, 37, -43],\n",
    "        [-16, -43, 98]]"
   ]
  },
  {
   "cell_type": "code",
   "execution_count": 2,
   "id": "4b3d26a6-5d50-4d32-9cd4-c5905c2f7dc3",
   "metadata": {},
   "outputs": [
    {
     "name": "stdout",
     "output_type": "stream",
     "text": [
      "[[0. 0. 0.]\n",
      " [0. 0. 0.]\n",
      " [0. 0. 0.]]\n"
     ]
    }
   ],
   "source": [
    "L = np.zeros_like(matrix, dtype=float)\n",
    "print(L)"
   ]
  },
  {
   "cell_type": "code",
   "execution_count": 3,
   "id": "78c7f95c-6242-43ac-a57c-e86d709c5ce9",
   "metadata": {},
   "outputs": [
    {
     "name": "stdout",
     "output_type": "stream",
     "text": [
      "My Cholesky Decomposition Result:\n",
      "[[ 2.          0.          0.        ]\n",
      " [ 1.          2.44948974  0.        ]\n",
      " [ 7.         -4.89897949  3.16227766]]\n"
     ]
    }
   ],
   "source": [
    "import numpy as np\n",
    "\n",
    "def my_cholesky_decomposition(matrix):\n",
    "    n = len(matrix)\n",
    "    lower_triangular = np.zeros((n, n))\n",
    "\n",
    "    for i in range(n):\n",
    "        for j in range(i + 1):\n",
    "            if i == j:\n",
    "                temp_sum = sum(lower_triangular[i, k] ** 2 for k in range(j))\n",
    "                lower_triangular[i, j] = np.sqrt(matrix[i, j] - temp_sum)\n",
    "            else:\n",
    "                temp_sum = sum(lower_triangular[i, k] * lower_triangular[j, k] for k in range(j))\n",
    "                lower_triangular[i, j] = (matrix[i, j] - temp_sum) / lower_triangular[j, j]\n",
    "\n",
    "    return lower_triangular\n",
    "\n",
    "# Example usage\n",
    "if __name__ == \"__main__\":\n",
    "    # Create a symmetric positive definite matrix\n",
    "    my_matrix = np.array([[4, 2, 14],\n",
    "                          [2, 7, -5],\n",
    "                          [14, -5, 83]])\n",
    "\n",
    "    # Perform Cholesky decomposition\n",
    "    my_lower_triangular = my_cholesky_decomposition(my_matrix)\n",
    "\n",
    "    print(\"My Cholesky Decomposition Result:\")\n",
    "    print(my_lower_triangular)"
   ]
  },
  {
   "cell_type": "code",
   "execution_count": 40,
   "id": "2bf39b41-2001-4c89-9930-1c4f00cddf56",
   "metadata": {},
   "outputs": [
    {
     "name": "stdout",
     "output_type": "stream",
     "text": [
      "[[2.0, 0, 0], [1.0, 4.123105625617661, 0], [7.0, 0, 8.595904049072193]]\n"
     ]
    }
   ],
   "source": [
    "import math\n",
    "A=[[4, 2, 14],\n",
    "        [2, 17, -5],\n",
    "        [14, -5, 83]]\n",
    "L=[[0,0,0,],[0,0,0],[0,0,0]]\n",
    "m,n = len(matrix),len(matrix)\n",
    "for i in range(m):\n",
    "    for j in range(n):\n",
    "        if(i==0):\n",
    "            if(i==j):\n",
    "                L[i][j]=math.sqrt(A[i][j])\n",
    "                #print(L[i][j])\n",
    "            else:\n",
    "                #print(A[i][j]/L[i][i])\n",
    "                L[j][i]=A[i][j]/L[i][i]\n",
    "        if(i>0):\n",
    "            #print(\"1\",A[i][i])\n",
    "            #print(\"2\",A[i][i]-A[i][j])\n",
    "            L[i][i]=math.sqrt(A[i][i]-L[i][j])\n",
    "print(L)"
   ]
  }
 ],
 "metadata": {
  "kernelspec": {
   "display_name": "Python 3 (ipykernel)",
   "language": "python",
   "name": "python3"
  },
  "language_info": {
   "codemirror_mode": {
    "name": "ipython",
    "version": 3
   },
   "file_extension": ".py",
   "mimetype": "text/x-python",
   "name": "python",
   "nbconvert_exporter": "python",
   "pygments_lexer": "ipython3",
   "version": "3.11.5"
  }
 },
 "nbformat": 4,
 "nbformat_minor": 5
}
