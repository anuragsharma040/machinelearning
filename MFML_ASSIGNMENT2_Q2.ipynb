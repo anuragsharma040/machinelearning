{
 "cells": [
  {
   "cell_type": "code",
   "execution_count": 1,
   "id": "91758583-f9cc-46c6-8ebf-12ea9429471d",
   "metadata": {},
   "outputs": [],
   "source": [
    "import numpy as np\n",
    "def convert_to_upper_triangular_matrix():\n",
    "    rows=len(matrix)\n",
    "    columns=len(matrix[0])\n",
    "    for i in reversed(range(rows)):\n",
    "        print(\"operation on row \",i,\" for upper triangular matrix\")\n",
    "        for j in range(columns):\n",
    "            if(j<i):\n",
    "                matrix[i][j]=0\n",
    "                print(matrix[i])\n",
    "    #print(\"Final upper triangular matrix is \\n\",matrix)\n",
    "    return matrix"
   ]
  },
  {
   "cell_type": "code",
   "execution_count": 2,
   "id": "79ed23a2-6789-43e7-b3a1-80bdd2c4f4d9",
   "metadata": {},
   "outputs": [],
   "source": [
    "def convert_to_lower_triangular_matrix():\n",
    "    rows=len(matrix)\n",
    "    columns=len(matrix[0])\n",
    "    for i in reversed(range(rows)):\n",
    "        print(\"operation on row \",i,\" for lower triangular matrix\")\n",
    "        for j in range(columns):\n",
    "            if(j>i):\n",
    "                matrix[i][j]=0\n",
    "                print(matrix[i])\n",
    "    #print(\"Final lower triangular matrix is \\n\",matrix)\n",
    "    return matrix"
   ]
  },
  {
   "cell_type": "code",
   "execution_count": 3,
   "id": "a14f829c-8fb3-4c3d-99aa-fb89e4fcd1ea",
   "metadata": {},
   "outputs": [
    {
     "name": "stdin",
     "output_type": "stream",
     "text": [
      "enter number of rows for matrix 3\n",
      "enter number of columns for matrix 4\n"
     ]
    },
    {
     "name": "stdout",
     "output_type": "stream",
     "text": [
      "Original matrix \n",
      " [[1 2 3 4]\n",
      " [3 1 4 2]\n",
      " [4 4 2 1]]\n",
      "operation on row  2  for upper triangular matrix\n",
      "[0 4 2 1]\n",
      "[0 0 2 1]\n",
      "operation on row  1  for upper triangular matrix\n",
      "[0 1 4 2]\n",
      "operation on row  0  for upper triangular matrix\n",
      "operation on row  2  for lower triangular matrix\n",
      "[0 0 2 0]\n",
      "operation on row  1  for lower triangular matrix\n",
      "[0 1 0 2]\n",
      "[0 1 0 0]\n",
      "operation on row  0  for lower triangular matrix\n",
      "[1 0 3 4]\n",
      "[1 0 0 4]\n",
      "[1 0 0 0]\n",
      "uppper_t_matrix \n",
      " [[1 0 0 0]\n",
      " [0 1 0 0]\n",
      " [0 0 2 0]]\n",
      "lower_t_matrix \n",
      " [[1 0 0 0]\n",
      " [0 1 0 0]\n",
      " [0 0 2 0]]\n"
     ]
    }
   ],
   "source": [
    "m=int(input(\"enter number of rows for matrix\"))\n",
    "n=int(input(\"enter number of columns for matrix\"))\n",
    "matrix = np.random.randint(low=1, high=5, size=(m, n))\n",
    "print(\"Original matrix \\n\",matrix)\n",
    "uppper_t_matrix=convert_to_upper_triangular_matrix()\n",
    "lower_t_matrix=convert_to_lower_triangular_matrix()\n",
    "print(\"uppper_t_matrix \\n\",uppper_t_matrix)\n",
    "print(\"lower_t_matrix \\n\",lower_t_matrix)"
   ]
  },
  {
   "cell_type": "code",
   "execution_count": 1,
   "id": "3d061f62-c7f1-40cb-a98b-68c2b465f75e",
   "metadata": {},
   "outputs": [],
   "source": [
    "m1=[[1,2,3],\n",
    "    [3,4,2],\n",
    "    [3,2,1]]\n",
    "\n",
    "m2=[[1,1,1],\n",
    "    [3,4,2],\n",
    "    [3,2,1]]"
   ]
  },
  {
   "cell_type": "code",
   "execution_count": 8,
   "id": "e28178f8-fbeb-4540-accd-b92047e831b1",
   "metadata": {},
   "outputs": [],
   "source": [
    "def multiply(m1,m2):\n",
    "    final_matrix=[['a','b','c'],['d','f','o'],['i','o','p']]\n",
    "    val=0\n",
    "    for k in range(3):\n",
    "        for i in range(3):\n",
    "            val=0\n",
    "            for j in range (3):\n",
    "                val+=m1[k][j]*m2[j][i]\n",
    "            final_matrix[k][i]=val\n",
    "            #print(val)\n",
    "            #val=0\n",
    "    print(final_matrix)"
   ]
  },
  {
   "cell_type": "code",
   "execution_count": 9,
   "id": "932791f0-132d-4e29-b106-d1865dbfd605",
   "metadata": {},
   "outputs": [
    {
     "name": "stdout",
     "output_type": "stream",
     "text": [
      "[[16, 15, 8], [21, 23, 13], [12, 13, 8]]\n"
     ]
    }
   ],
   "source": [
    "multiply(m1,m2)"
   ]
  }
 ],
 "metadata": {
  "kernelspec": {
   "display_name": "Python 3 (ipykernel)",
   "language": "python",
   "name": "python3"
  },
  "language_info": {
   "codemirror_mode": {
    "name": "ipython",
    "version": 3
   },
   "file_extension": ".py",
   "mimetype": "text/x-python",
   "name": "python",
   "nbconvert_exporter": "python",
   "pygments_lexer": "ipython3",
   "version": "3.11.5"
  }
 },
 "nbformat": 4,
 "nbformat_minor": 5
}
