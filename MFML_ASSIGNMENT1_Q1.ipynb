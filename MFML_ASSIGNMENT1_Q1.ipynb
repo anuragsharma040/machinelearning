{
 "cells": [
  {
   "cell_type": "code",
   "execution_count": 1,
   "id": "188661c3-7616-481f-8095-885a8a63a981",
   "metadata": {},
   "outputs": [],
   "source": [
    "def input_matrix(rows, cols):\n",
    "    matrix = []\n",
    "    for i in range(rows):\n",
    "        row = list(map(int, input(f\"Enter row {i + 1} of the matrix (space-separated values): \").split(\",\")))\n",
    "        matrix.append(row)\n",
    "    return matrix\n",
    "\n",
    "def input_vector(rows, cols=1):\n",
    "    vector = []\n",
    "    for i in range(rows):\n",
    "        row = list(map(int, input(f\"Enter row {i + 1} of the vector (space-separated values): \").split(\",\")))\n",
    "        vector.append(row)\n",
    "    return vector\n",
    "\n",
    "def augmented_matrix(A,b):\n",
    "    aug_matrix=[]\n",
    "    for i in range(m):\n",
    "        rowA=A[i]\n",
    "        rowb=[b[i][0]]\n",
    "        aug_matrix.append(rowA+rowb)\n",
    "    return aug_matrix"
   ]
  },
  {
   "cell_type": "code",
   "execution_count": 2,
   "id": "ceba6eca-a1f4-4569-880d-bf0a32f504e7",
   "metadata": {},
   "outputs": [
    {
     "name": "stdin",
     "output_type": "stream",
     "text": [
      "Enter number if rows for matrix A 3\n",
      "Enter number if columns for matrix A 3\n"
     ]
    }
   ],
   "source": [
    "m=int(input('Enter number if rows for matrix A'))\n",
    "n=int(input('Enter number if columns for matrix A'))"
   ]
  },
  {
   "cell_type": "code",
   "execution_count": 3,
   "id": "a0b8761c-b377-4a66-ad33-379c8c538def",
   "metadata": {},
   "outputs": [
    {
     "name": "stdin",
     "output_type": "stream",
     "text": [
      "Enter row 1 of the matrix (space-separated values):  3, 9, -3\n",
      "Enter row 2 of the matrix (space-separated values):  1, -3, 11\n",
      "Enter row 3 of the matrix (space-separated values):  -2, 5, -20\n",
      "Enter row 1 of the vector (space-separated values):  24\n",
      "Enter row 2 of the vector (space-separated values):  -2\n",
      "Enter row 3 of the vector (space-separated values):  -5\n"
     ]
    }
   ],
   "source": [
    "A=input_matrix(m,n)\n",
    "b=input_vector(m)"
   ]
  },
  {
   "cell_type": "code",
   "execution_count": 6,
   "id": "221c3675-217a-41e6-8afd-911c07373ab5",
   "metadata": {},
   "outputs": [
    {
     "name": "stdout",
     "output_type": "stream",
     "text": [
      "[[3, 9, -3, 24], [1, -3, 11, -2], [-2, 5, -20, -5]]\n"
     ]
    }
   ],
   "source": [
    "C=augmented_matrix(A,b)\n",
    "#print(C)\n",
    "#C=[[1, 2, 3, 4, 1], [4, 5, 6, 7, 4], [4, 5, 7, 8, 5]]\n",
    "C=[[3, 9, -3, 24], [1, -3, 11, -2], [-2, 5, -20, -5]]\n",
    "print(C)"
   ]
  },
  {
   "cell_type": "code",
   "execution_count": 20,
   "id": "13b5fb65-5aa9-4f9a-9780-8050c7a2877f",
   "metadata": {},
   "outputs": [],
   "source": [
    "def perform_ref(matrix):\n",
    "    m = len(matrix)\n",
    "    n = len(matrix[0])-1\n",
    "    print(m)\n",
    "    print(n)"
   ]
  },
  {
   "cell_type": "code",
   "execution_count": 21,
   "id": "bdfbf09e-420d-4057-88cb-30bbeaeec0c4",
   "metadata": {},
   "outputs": [
    {
     "name": "stdout",
     "output_type": "stream",
     "text": [
      "3\n",
      "3\n"
     ]
    }
   ],
   "source": [
    "perform_ref(C)"
   ]
  },
  {
   "cell_type": "code",
   "execution_count": 43,
   "id": "af0311b0-32a8-48a9-936e-ad0658d391b3",
   "metadata": {},
   "outputs": [],
   "source": [
    "def scale_row(matrix, row, scalar):\n",
    "    for i in range(len(matrix[row])):\n",
    "        matrix[row][i] *= scalar"
   ]
  },
  {
   "cell_type": "code",
   "execution_count": 39,
   "id": "6cf488ee-59be-4711-b2b5-35f6d00cffcf",
   "metadata": {},
   "outputs": [],
   "source": [
    "def add_scaled_row(matrix, source_row, destination_row, scalar):\n",
    "    for i in range(len(matrix[0])):\n",
    "        matrix[destination_row][i] += scalar * matrix[source_row][i]"
   ]
  },
  {
   "cell_type": "code",
   "execution_count": 41,
   "id": "73818777-21cd-4d53-8fca-b31ec35a211f",
   "metadata": {},
   "outputs": [],
   "source": [
    "def perform_ref(matrix):\n",
    "    m = len(matrix)\n",
    "    n = len(matrix[0]) - 1  # Exclude the last column (b) in the augmented matrix\n",
    "    pivot_col = 0\n",
    "\n",
    "    for pivot_row in range(m):\n",
    "        # Find a non-zero entry in the pivot column\n",
    "        while pivot_col < n and matrix[pivot_row][pivot_col] == 0:\n",
    "            pivot_col += 1\n",
    "\n",
    "        if pivot_col == n:\n",
    "            # All entries in this column are zero, move to the next column\n",
    "            continue\n",
    "\n",
    "        # Make the pivot element 1\n",
    "        pivot_element = matrix[pivot_row][pivot_col]\n",
    "        scale_row(matrix, pivot_row, 1 / pivot_element)\n",
    "        print(matrix[pivot_row])\n",
    "\n",
    "        # Eliminate non-zero entries below the pivot\n",
    "        for row in range(pivot_row + 1, m):\n",
    "            multiplier = matrix[row][pivot_col]\n",
    "            add_scaled_row(matrix, pivot_row, row, -multiplier)\n",
    "\n",
    "        pivot_col += 1"
   ]
  },
  {
   "cell_type": "code",
   "execution_count": 44,
   "id": "80fb9ddc-324e-4c65-b11c-7f735c497bbe",
   "metadata": {},
   "outputs": [
    {
     "name": "stdout",
     "output_type": "stream",
     "text": [
      "[1.0, 3.0, -1.0, 8.0]\n",
      "[0.0, 1.0, -2.0, 1.6666666666666665]\n"
     ]
    }
   ],
   "source": [
    "perform_ref(C)"
   ]
  }
 ],
 "metadata": {
  "kernelspec": {
   "display_name": "Python 3 (ipykernel)",
   "language": "python",
   "name": "python3"
  },
  "language_info": {
   "codemirror_mode": {
    "name": "ipython",
    "version": 3
   },
   "file_extension": ".py",
   "mimetype": "text/x-python",
   "name": "python",
   "nbconvert_exporter": "python",
   "pygments_lexer": "ipython3",
   "version": "3.11.5"
  }
 },
 "nbformat": 4,
 "nbformat_minor": 5
}
